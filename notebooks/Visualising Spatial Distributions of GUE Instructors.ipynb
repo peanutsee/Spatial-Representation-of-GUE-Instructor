{
 "cells": [
  {
   "cell_type": "code",
   "execution_count": null,
   "metadata": {},
   "outputs": [],
   "source": [
    "# TODO: Map locations to lat/lon\n",
    "# TODO: Display on interative map (https://www.earthdatascience.org/courses/scientists-guide-to-plotting-data-in-python/plot-spatial-data/customize-raster-plots/interactive-maps/)"
   ]
  }
 ],
 "metadata": {
  "language_info": {
   "name": "python"
  }
 },
 "nbformat": 4,
 "nbformat_minor": 2
}
